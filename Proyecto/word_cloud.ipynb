{
 "cells": [
  {
   "cell_type": "markdown",
   "metadata": {},
   "source": [
    "# <span style=\"color: orange\"> Librerias </span>"
   ]
  },
  {
   "cell_type": "code",
   "execution_count": 32,
   "metadata": {},
   "outputs": [],
   "source": [
    "import pandas as pd\n",
    "import matplotlib.pyplot as plt\n",
    "import re\n",
    "import nltk\n",
    "from nltk.corpus import stopwords\n",
    "from nltk.stem import PorterStemmer\n",
    "from nltk.stem import WordNetLemmatizer\n",
    "from nltk.corpus import wordnet\n",
    "from nltk import pos_tag\n",
    "from wordcloud import WordCloud\n",
    "from collections import Counter"
   ]
  },
  {
   "cell_type": "code",
   "execution_count": 2,
   "metadata": {},
   "outputs": [
    {
     "name": "stderr",
     "output_type": "stream",
     "text": [
      "[nltk_data] Downloading package stopwords to\n",
      "[nltk_data]     /Users/chrismerida/nltk_data...\n",
      "[nltk_data]   Package stopwords is already up-to-date!\n",
      "[nltk_data] Downloading package punkt to\n",
      "[nltk_data]     /Users/chrismerida/nltk_data...\n",
      "[nltk_data]   Package punkt is already up-to-date!\n"
     ]
    },
    {
     "data": {
      "text/plain": [
       "True"
      ]
     },
     "execution_count": 2,
     "metadata": {},
     "output_type": "execute_result"
    }
   ],
   "source": [
    "nltk.download('stopwords')\n",
    "nltk.download('punkt')"
   ]
  },
  {
   "cell_type": "markdown",
   "metadata": {},
   "source": [
    "# <span style=\"color: orange\"> Dataset </span>"
   ]
  },
  {
   "cell_type": "code",
   "execution_count": 3,
   "metadata": {},
   "outputs": [
    {
     "data": {
      "text/html": [
       "<div>\n",
       "<style scoped>\n",
       "    .dataframe tbody tr th:only-of-type {\n",
       "        vertical-align: middle;\n",
       "    }\n",
       "\n",
       "    .dataframe tbody tr th {\n",
       "        vertical-align: top;\n",
       "    }\n",
       "\n",
       "    .dataframe thead th {\n",
       "        text-align: right;\n",
       "    }\n",
       "</style>\n",
       "<table border=\"1\" class=\"dataframe\">\n",
       "  <thead>\n",
       "    <tr style=\"text-align: right;\">\n",
       "      <th></th>\n",
       "      <th>0</th>\n",
       "      <th>1</th>\n",
       "      <th>2</th>\n",
       "      <th>3</th>\n",
       "      <th>4</th>\n",
       "      <th>5</th>\n",
       "    </tr>\n",
       "  </thead>\n",
       "  <tbody>\n",
       "    <tr>\n",
       "      <th>0</th>\n",
       "      <td>0</td>\n",
       "      <td>1467810369</td>\n",
       "      <td>Mon Apr 06 22:19:45 PDT 2009</td>\n",
       "      <td>NO_QUERY</td>\n",
       "      <td>_TheSpecialOne_</td>\n",
       "      <td>@switchfoot http://twitpic.com/2y1zl - Awww, t...</td>\n",
       "    </tr>\n",
       "    <tr>\n",
       "      <th>1</th>\n",
       "      <td>0</td>\n",
       "      <td>1467810672</td>\n",
       "      <td>Mon Apr 06 22:19:49 PDT 2009</td>\n",
       "      <td>NO_QUERY</td>\n",
       "      <td>scotthamilton</td>\n",
       "      <td>is upset that he can't update his Facebook by ...</td>\n",
       "    </tr>\n",
       "    <tr>\n",
       "      <th>2</th>\n",
       "      <td>0</td>\n",
       "      <td>1467810917</td>\n",
       "      <td>Mon Apr 06 22:19:53 PDT 2009</td>\n",
       "      <td>NO_QUERY</td>\n",
       "      <td>mattycus</td>\n",
       "      <td>@Kenichan I dived many times for the ball. Man...</td>\n",
       "    </tr>\n",
       "    <tr>\n",
       "      <th>3</th>\n",
       "      <td>0</td>\n",
       "      <td>1467811184</td>\n",
       "      <td>Mon Apr 06 22:19:57 PDT 2009</td>\n",
       "      <td>NO_QUERY</td>\n",
       "      <td>ElleCTF</td>\n",
       "      <td>my whole body feels itchy and like its on fire</td>\n",
       "    </tr>\n",
       "    <tr>\n",
       "      <th>4</th>\n",
       "      <td>0</td>\n",
       "      <td>1467811193</td>\n",
       "      <td>Mon Apr 06 22:19:57 PDT 2009</td>\n",
       "      <td>NO_QUERY</td>\n",
       "      <td>Karoli</td>\n",
       "      <td>@nationwideclass no, it's not behaving at all....</td>\n",
       "    </tr>\n",
       "  </tbody>\n",
       "</table>\n",
       "</div>"
      ],
      "text/plain": [
       "   0           1                             2         3                4  \\\n",
       "0  0  1467810369  Mon Apr 06 22:19:45 PDT 2009  NO_QUERY  _TheSpecialOne_   \n",
       "1  0  1467810672  Mon Apr 06 22:19:49 PDT 2009  NO_QUERY    scotthamilton   \n",
       "2  0  1467810917  Mon Apr 06 22:19:53 PDT 2009  NO_QUERY         mattycus   \n",
       "3  0  1467811184  Mon Apr 06 22:19:57 PDT 2009  NO_QUERY          ElleCTF   \n",
       "4  0  1467811193  Mon Apr 06 22:19:57 PDT 2009  NO_QUERY           Karoli   \n",
       "\n",
       "                                                   5  \n",
       "0  @switchfoot http://twitpic.com/2y1zl - Awww, t...  \n",
       "1  is upset that he can't update his Facebook by ...  \n",
       "2  @Kenichan I dived many times for the ball. Man...  \n",
       "3    my whole body feels itchy and like its on fire   \n",
       "4  @nationwideclass no, it's not behaving at all....  "
      ]
     },
     "execution_count": 3,
     "metadata": {},
     "output_type": "execute_result"
    }
   ],
   "source": [
    "df = pd.read_csv(\"tw_source.csv\", header=None, delimiter=\",\", quotechar='\"', encoding='ISO-8859-1')\n",
    "df.head()"
   ]
  },
  {
   "cell_type": "markdown",
   "metadata": {},
   "source": [
    "# <span style=\"color: orange\"> Usuarios Más Populares </span>"
   ]
  },
  {
   "cell_type": "code",
   "execution_count": 4,
   "metadata": {},
   "outputs": [],
   "source": [
    "estructura_user = r\"^@\\w+\"\n",
    "\n",
    "def extraer_user(texto):\n",
    "    return re.findall(estructura_user, str(texto))"
   ]
  },
  {
   "cell_type": "code",
   "execution_count": 5,
   "metadata": {},
   "outputs": [],
   "source": [
    "df['user_extraido'] = df[5].apply(extraer_user)"
   ]
  },
  {
   "cell_type": "code",
   "execution_count": 6,
   "metadata": {},
   "outputs": [
    {
     "name": "stdout",
     "output_type": "stream",
     "text": [
      "        user_extraido\n",
      "0       [@switchfoot]\n",
      "1                  []\n",
      "2         [@Kenichan]\n",
      "3                  []\n",
      "4  [@nationwideclass]\n"
     ]
    }
   ],
   "source": [
    "print(df[['user_extraido']].head())"
   ]
  },
  {
   "cell_type": "code",
   "execution_count": 7,
   "metadata": {},
   "outputs": [],
   "source": [
    "users_expandido = df['user_extraido'].explode()"
   ]
  },
  {
   "cell_type": "code",
   "execution_count": 8,
   "metadata": {},
   "outputs": [],
   "source": [
    "users_expandido = users_expandido.dropna()"
   ]
  },
  {
   "cell_type": "code",
   "execution_count": 9,
   "metadata": {},
   "outputs": [],
   "source": [
    "cont_user = users_expandido.value_counts()"
   ]
  },
  {
   "cell_type": "code",
   "execution_count": 10,
   "metadata": {},
   "outputs": [
    {
     "name": "stdout",
     "output_type": "stream",
     "text": [
      "user_extraido\n",
      "@mileycyrus    3824\n",
      "@tommcfly      3631\n",
      "@ddlovato      2954\n",
      "Name: count, dtype: int64\n"
     ]
    }
   ],
   "source": [
    "users_populares = cont_user.head(3)\n",
    "print(users_populares)"
   ]
  },
  {
   "cell_type": "markdown",
   "metadata": {},
   "source": [
    "# <span style=\"color: orange\"> Corpus </span>"
   ]
  },
  {
   "cell_type": "code",
   "execution_count": 11,
   "metadata": {},
   "outputs": [],
   "source": [
    "users_populares = cont_user.head(3).index"
   ]
  },
  {
   "cell_type": "code",
   "execution_count": 12,
   "metadata": {},
   "outputs": [],
   "source": [
    "corpus_users = {}"
   ]
  },
  {
   "cell_type": "code",
   "execution_count": 13,
   "metadata": {},
   "outputs": [
    {
     "name": "stderr",
     "output_type": "stream",
     "text": [
      "/var/folders/1_/06zplv050hq3hwkfjzjzpvx00000gn/T/ipykernel_26422/639737494.py:4: SettingWithCopyWarning: \n",
      "A value is trying to be set on a copy of a slice from a DataFrame.\n",
      "Try using .loc[row_indexer,col_indexer] = value instead\n",
      "\n",
      "See the caveats in the documentation: https://pandas.pydata.org/pandas-docs/stable/user_guide/indexing.html#returning-a-view-versus-a-copy\n",
      "  tweets_user['Length'] = tweets_user[5].apply(lambda x: len(str(x)))\n",
      "/var/folders/1_/06zplv050hq3hwkfjzjzpvx00000gn/T/ipykernel_26422/639737494.py:4: SettingWithCopyWarning: \n",
      "A value is trying to be set on a copy of a slice from a DataFrame.\n",
      "Try using .loc[row_indexer,col_indexer] = value instead\n",
      "\n",
      "See the caveats in the documentation: https://pandas.pydata.org/pandas-docs/stable/user_guide/indexing.html#returning-a-view-versus-a-copy\n",
      "  tweets_user['Length'] = tweets_user[5].apply(lambda x: len(str(x)))\n",
      "/var/folders/1_/06zplv050hq3hwkfjzjzpvx00000gn/T/ipykernel_26422/639737494.py:4: SettingWithCopyWarning: \n",
      "A value is trying to be set on a copy of a slice from a DataFrame.\n",
      "Try using .loc[row_indexer,col_indexer] = value instead\n",
      "\n",
      "See the caveats in the documentation: https://pandas.pydata.org/pandas-docs/stable/user_guide/indexing.html#returning-a-view-versus-a-copy\n",
      "  tweets_user['Length'] = tweets_user[5].apply(lambda x: len(str(x)))\n"
     ]
    }
   ],
   "source": [
    "for user in users_populares:\n",
    "    tweets_user = df[df['user_extraido'].apply(lambda x: user in x if x else False)]\n",
    "\n",
    "    tweets_user['Length'] = tweets_user[5].apply(lambda x: len(str(x)))\n",
    "\n",
    "    corpus = pd.DataFrame({\n",
    "        'ID': tweets_user[1], \n",
    "        'Timestamp': tweets_user[2], \n",
    "        'Length': tweets_user['Length'], \n",
    "        'Contenido': tweets_user[5] \n",
    "    })\n",
    "\n",
    "    corpus_users[user] = corpus"
   ]
  },
  {
   "cell_type": "code",
   "execution_count": 14,
   "metadata": {},
   "outputs": [
    {
     "name": "stdout",
     "output_type": "stream",
     "text": [
      "Corpus del usuario: @mileycyrus\n"
     ]
    },
    {
     "data": {
      "text/html": [
       "<div>\n",
       "<style scoped>\n",
       "    .dataframe tbody tr th:only-of-type {\n",
       "        vertical-align: middle;\n",
       "    }\n",
       "\n",
       "    .dataframe tbody tr th {\n",
       "        vertical-align: top;\n",
       "    }\n",
       "\n",
       "    .dataframe thead th {\n",
       "        text-align: right;\n",
       "    }\n",
       "</style>\n",
       "<table border=\"1\" class=\"dataframe\">\n",
       "  <thead>\n",
       "    <tr style=\"text-align: right;\">\n",
       "      <th></th>\n",
       "      <th>ID</th>\n",
       "      <th>Timestamp</th>\n",
       "      <th>Length</th>\n",
       "      <th>Contenido</th>\n",
       "    </tr>\n",
       "  </thead>\n",
       "  <tbody>\n",
       "    <tr>\n",
       "      <th>1021</th>\n",
       "      <td>1468063101</td>\n",
       "      <td>Mon Apr 06 23:30:57 PDT 2009</td>\n",
       "      <td>107</td>\n",
       "      <td>@mileycyrus hahaha dont be like that one time ...</td>\n",
       "    </tr>\n",
       "    <tr>\n",
       "      <th>2014</th>\n",
       "      <td>1468286517</td>\n",
       "      <td>Tue Apr 07 00:45:20 PDT 2009</td>\n",
       "      <td>137</td>\n",
       "      <td>@mileycyrus i have the same problem, but it's ...</td>\n",
       "    </tr>\n",
       "    <tr>\n",
       "      <th>2073</th>\n",
       "      <td>1468297110</td>\n",
       "      <td>Tue Apr 07 00:49:07 PDT 2009</td>\n",
       "      <td>72</td>\n",
       "      <td>@mileycyrus I guess counting sheep didn't work...</td>\n",
       "    </tr>\n",
       "    <tr>\n",
       "      <th>2080</th>\n",
       "      <td>1468298918</td>\n",
       "      <td>Tue Apr 07 00:49:44 PDT 2009</td>\n",
       "      <td>100</td>\n",
       "      <td>@mileycyrus I would too if it meant spending a...</td>\n",
       "    </tr>\n",
       "    <tr>\n",
       "      <th>2156</th>\n",
       "      <td>1468318249</td>\n",
       "      <td>Tue Apr 07 00:56:41 PDT 2009</td>\n",
       "      <td>112</td>\n",
       "      <td>@mileycyrus AWWW u seriously have the cutest d...</td>\n",
       "    </tr>\n",
       "  </tbody>\n",
       "</table>\n",
       "</div>"
      ],
      "text/plain": [
       "              ID                     Timestamp  Length  \\\n",
       "1021  1468063101  Mon Apr 06 23:30:57 PDT 2009     107   \n",
       "2014  1468286517  Tue Apr 07 00:45:20 PDT 2009     137   \n",
       "2073  1468297110  Tue Apr 07 00:49:07 PDT 2009      72   \n",
       "2080  1468298918  Tue Apr 07 00:49:44 PDT 2009     100   \n",
       "2156  1468318249  Tue Apr 07 00:56:41 PDT 2009     112   \n",
       "\n",
       "                                              Contenido  \n",
       "1021  @mileycyrus hahaha dont be like that one time ...  \n",
       "2014  @mileycyrus i have the same problem, but it's ...  \n",
       "2073  @mileycyrus I guess counting sheep didn't work...  \n",
       "2080  @mileycyrus I would too if it meant spending a...  \n",
       "2156  @mileycyrus AWWW u seriously have the cutest d...  "
      ]
     },
     "execution_count": 14,
     "metadata": {},
     "output_type": "execute_result"
    }
   ],
   "source": [
    "corpus_mileycyrus = corpus_users['@mileycyrus']\n",
    "print(f\"Corpus del usuario: @mileycyrus\")\n",
    "corpus_mileycyrus.head()"
   ]
  },
  {
   "cell_type": "code",
   "execution_count": 15,
   "metadata": {},
   "outputs": [
    {
     "name": "stdout",
     "output_type": "stream",
     "text": [
      "Corpus del usuario: @tommcfly\n"
     ]
    },
    {
     "data": {
      "text/html": [
       "<div>\n",
       "<style scoped>\n",
       "    .dataframe tbody tr th:only-of-type {\n",
       "        vertical-align: middle;\n",
       "    }\n",
       "\n",
       "    .dataframe tbody tr th {\n",
       "        vertical-align: top;\n",
       "    }\n",
       "\n",
       "    .dataframe thead th {\n",
       "        text-align: right;\n",
       "    }\n",
       "</style>\n",
       "<table border=\"1\" class=\"dataframe\">\n",
       "  <thead>\n",
       "    <tr style=\"text-align: right;\">\n",
       "      <th></th>\n",
       "      <th>ID</th>\n",
       "      <th>Timestamp</th>\n",
       "      <th>Length</th>\n",
       "      <th>Contenido</th>\n",
       "    </tr>\n",
       "  </thead>\n",
       "  <tbody>\n",
       "    <tr>\n",
       "      <th>1690</th>\n",
       "      <td>1468210813</td>\n",
       "      <td>Tue Apr 07 00:19:09 PDT 2009</td>\n",
       "      <td>138</td>\n",
       "      <td>@tommcfly hey saw u guys play @ pushover..didn...</td>\n",
       "    </tr>\n",
       "    <tr>\n",
       "      <th>1789</th>\n",
       "      <td>1468233211</td>\n",
       "      <td>Tue Apr 07 00:26:52 PDT 2009</td>\n",
       "      <td>131</td>\n",
       "      <td>@tommcfly Good morning Tom! Why can't I send y...</td>\n",
       "    </tr>\n",
       "    <tr>\n",
       "      <th>2514</th>\n",
       "      <td>1468391638</td>\n",
       "      <td>Tue Apr 07 01:23:07 PDT 2009</td>\n",
       "      <td>96</td>\n",
       "      <td>@tommcfly did you know that johnsons baby use ...</td>\n",
       "    </tr>\n",
       "    <tr>\n",
       "      <th>3524</th>\n",
       "      <td>1468618787</td>\n",
       "      <td>Tue Apr 07 02:46:02 PDT 2009</td>\n",
       "      <td>131</td>\n",
       "      <td>@tommcfly hey, no chance of adding brighton or...</td>\n",
       "    </tr>\n",
       "    <tr>\n",
       "      <th>3783</th>\n",
       "      <td>1468674970</td>\n",
       "      <td>Tue Apr 07 03:05:49 PDT 2009</td>\n",
       "      <td>82</td>\n",
       "      <td>@tommcfly have fun tom, i need to buy eclipse ...</td>\n",
       "    </tr>\n",
       "  </tbody>\n",
       "</table>\n",
       "</div>"
      ],
      "text/plain": [
       "              ID                     Timestamp  Length  \\\n",
       "1690  1468210813  Tue Apr 07 00:19:09 PDT 2009     138   \n",
       "1789  1468233211  Tue Apr 07 00:26:52 PDT 2009     131   \n",
       "2514  1468391638  Tue Apr 07 01:23:07 PDT 2009      96   \n",
       "3524  1468618787  Tue Apr 07 02:46:02 PDT 2009     131   \n",
       "3783  1468674970  Tue Apr 07 03:05:49 PDT 2009      82   \n",
       "\n",
       "                                              Contenido  \n",
       "1690  @tommcfly hey saw u guys play @ pushover..didn...  \n",
       "1789  @tommcfly Good morning Tom! Why can't I send y...  \n",
       "2514  @tommcfly did you know that johnsons baby use ...  \n",
       "3524  @tommcfly hey, no chance of adding brighton or...  \n",
       "3783  @tommcfly have fun tom, i need to buy eclipse ...  "
      ]
     },
     "execution_count": 15,
     "metadata": {},
     "output_type": "execute_result"
    }
   ],
   "source": [
    "corpus_tommcfly = corpus_users['@tommcfly']\n",
    "print(f\"Corpus del usuario: @tommcfly\")\n",
    "corpus_tommcfly.head()"
   ]
  },
  {
   "cell_type": "code",
   "execution_count": 16,
   "metadata": {},
   "outputs": [
    {
     "name": "stdout",
     "output_type": "stream",
     "text": [
      "Corpus del usuario: @ddlovato\n"
     ]
    },
    {
     "data": {
      "text/html": [
       "<div>\n",
       "<style scoped>\n",
       "    .dataframe tbody tr th:only-of-type {\n",
       "        vertical-align: middle;\n",
       "    }\n",
       "\n",
       "    .dataframe tbody tr th {\n",
       "        vertical-align: top;\n",
       "    }\n",
       "\n",
       "    .dataframe thead th {\n",
       "        text-align: right;\n",
       "    }\n",
       "</style>\n",
       "<table border=\"1\" class=\"dataframe\">\n",
       "  <thead>\n",
       "    <tr style=\"text-align: right;\">\n",
       "      <th></th>\n",
       "      <th>ID</th>\n",
       "      <th>Timestamp</th>\n",
       "      <th>Length</th>\n",
       "      <th>Contenido</th>\n",
       "    </tr>\n",
       "  </thead>\n",
       "  <tbody>\n",
       "    <tr>\n",
       "      <th>460</th>\n",
       "      <td>1467929230</td>\n",
       "      <td>Mon Apr 06 22:51:34 PDT 2009</td>\n",
       "      <td>47</td>\n",
       "      <td>@ddlovato @David_Henrie ummmmm i cant find it.</td>\n",
       "    </tr>\n",
       "    <tr>\n",
       "      <th>573</th>\n",
       "      <td>1467953367</td>\n",
       "      <td>Mon Apr 06 22:58:30 PDT 2009</td>\n",
       "      <td>40</td>\n",
       "      <td>@ddlovato Do you hate us?? Please don't</td>\n",
       "    </tr>\n",
       "    <tr>\n",
       "      <th>7032</th>\n",
       "      <td>1469661950</td>\n",
       "      <td>Tue Apr 07 07:02:58 PDT 2009</td>\n",
       "      <td>96</td>\n",
       "      <td>@ddlovato Wish that i could see it..  Thats th...</td>\n",
       "    </tr>\n",
       "    <tr>\n",
       "      <th>7089</th>\n",
       "      <td>1469674492</td>\n",
       "      <td>Tue Apr 07 07:05:11 PDT 2009</td>\n",
       "      <td>79</td>\n",
       "      <td>@ddlovato hey demi, wen are you and selena gon...</td>\n",
       "    </tr>\n",
       "    <tr>\n",
       "      <th>8611</th>\n",
       "      <td>1548280868</td>\n",
       "      <td>Fri Apr 17 20:31:31 PDT 2009</td>\n",
       "      <td>85</td>\n",
       "      <td>@ddlovato ahhhh i wish i could go to the dalla...</td>\n",
       "    </tr>\n",
       "  </tbody>\n",
       "</table>\n",
       "</div>"
      ],
      "text/plain": [
       "              ID                     Timestamp  Length  \\\n",
       "460   1467929230  Mon Apr 06 22:51:34 PDT 2009      47   \n",
       "573   1467953367  Mon Apr 06 22:58:30 PDT 2009      40   \n",
       "7032  1469661950  Tue Apr 07 07:02:58 PDT 2009      96   \n",
       "7089  1469674492  Tue Apr 07 07:05:11 PDT 2009      79   \n",
       "8611  1548280868  Fri Apr 17 20:31:31 PDT 2009      85   \n",
       "\n",
       "                                              Contenido  \n",
       "460     @ddlovato @David_Henrie ummmmm i cant find it.   \n",
       "573            @ddlovato Do you hate us?? Please don't   \n",
       "7032  @ddlovato Wish that i could see it..  Thats th...  \n",
       "7089  @ddlovato hey demi, wen are you and selena gon...  \n",
       "8611  @ddlovato ahhhh i wish i could go to the dalla...  "
      ]
     },
     "execution_count": 16,
     "metadata": {},
     "output_type": "execute_result"
    }
   ],
   "source": [
    "corpus_ddlovato = corpus_users['@ddlovato']\n",
    "print(f\"Corpus del usuario: @ddlovato\")\n",
    "corpus_ddlovato.head()"
   ]
  },
  {
   "cell_type": "markdown",
   "metadata": {},
   "source": [
    "# <span style=\"color: orange\"> Remove Stopwords </span>"
   ]
  },
  {
   "cell_type": "code",
   "execution_count": 17,
   "metadata": {},
   "outputs": [],
   "source": [
    "stop_words = set(stopwords.words('english'))\n",
    "\n",
    "def remover_stopwords(texto):\n",
    "    words = re.findall(r'\\w+', texto.lower()) \n",
    "    return [word for word in words if word not in stop_words]"
   ]
  },
  {
   "cell_type": "code",
   "execution_count": 18,
   "metadata": {},
   "outputs": [
    {
     "name": "stdout",
     "output_type": "stream",
     "text": [
      "Corpus del usuario: @mileycyrus\n"
     ]
    },
    {
     "data": {
      "text/html": [
       "<div>\n",
       "<style scoped>\n",
       "    .dataframe tbody tr th:only-of-type {\n",
       "        vertical-align: middle;\n",
       "    }\n",
       "\n",
       "    .dataframe tbody tr th {\n",
       "        vertical-align: top;\n",
       "    }\n",
       "\n",
       "    .dataframe thead th {\n",
       "        text-align: right;\n",
       "    }\n",
       "</style>\n",
       "<table border=\"1\" class=\"dataframe\">\n",
       "  <thead>\n",
       "    <tr style=\"text-align: right;\">\n",
       "      <th></th>\n",
       "      <th>Contenido</th>\n",
       "      <th>Words</th>\n",
       "    </tr>\n",
       "  </thead>\n",
       "  <tbody>\n",
       "    <tr>\n",
       "      <th>1021</th>\n",
       "      <td>@mileycyrus hahaha dont be like that one time ...</td>\n",
       "      <td>[mileycyrus, hahaha, dont, like, one, time, ny...</td>\n",
       "    </tr>\n",
       "    <tr>\n",
       "      <th>2014</th>\n",
       "      <td>@mileycyrus i have the same problem, but it's ...</td>\n",
       "      <td>[mileycyrus, problem, 4, 43, let, see, countin...</td>\n",
       "    </tr>\n",
       "    <tr>\n",
       "      <th>2073</th>\n",
       "      <td>@mileycyrus I guess counting sheep didn't work...</td>\n",
       "      <td>[mileycyrus, guess, counting, sheep, work, hop...</td>\n",
       "    </tr>\n",
       "    <tr>\n",
       "      <th>2080</th>\n",
       "      <td>@mileycyrus I would too if it meant spending a...</td>\n",
       "      <td>[mileycyrus, would, meant, spending, day, heav...</td>\n",
       "    </tr>\n",
       "    <tr>\n",
       "      <th>2156</th>\n",
       "      <td>@mileycyrus AWWW u seriously have the cutest d...</td>\n",
       "      <td>[mileycyrus, awww, u, seriously, cutest, dog, ...</td>\n",
       "    </tr>\n",
       "  </tbody>\n",
       "</table>\n",
       "</div>"
      ],
      "text/plain": [
       "                                              Contenido  \\\n",
       "1021  @mileycyrus hahaha dont be like that one time ...   \n",
       "2014  @mileycyrus i have the same problem, but it's ...   \n",
       "2073  @mileycyrus I guess counting sheep didn't work...   \n",
       "2080  @mileycyrus I would too if it meant spending a...   \n",
       "2156  @mileycyrus AWWW u seriously have the cutest d...   \n",
       "\n",
       "                                                  Words  \n",
       "1021  [mileycyrus, hahaha, dont, like, one, time, ny...  \n",
       "2014  [mileycyrus, problem, 4, 43, let, see, countin...  \n",
       "2073  [mileycyrus, guess, counting, sheep, work, hop...  \n",
       "2080  [mileycyrus, would, meant, spending, day, heav...  \n",
       "2156  [mileycyrus, awww, u, seriously, cutest, dog, ...  "
      ]
     },
     "execution_count": 18,
     "metadata": {},
     "output_type": "execute_result"
    }
   ],
   "source": [
    "# mileycyrus\n",
    "corpus_mileycyrus = corpus_users['@mileycyrus']\n",
    "corpus_mileycyrus['Words'] = corpus_mileycyrus['Contenido'].apply(remover_stopwords)\n",
    "print(f\"Corpus del usuario: @mileycyrus\")\n",
    "corpus_mileycyrus[['Contenido', 'Words']].head()"
   ]
  },
  {
   "cell_type": "code",
   "execution_count": 19,
   "metadata": {},
   "outputs": [
    {
     "name": "stdout",
     "output_type": "stream",
     "text": [
      "\n",
      "Corpus del usuario: @tommcfly\n"
     ]
    },
    {
     "data": {
      "text/html": [
       "<div>\n",
       "<style scoped>\n",
       "    .dataframe tbody tr th:only-of-type {\n",
       "        vertical-align: middle;\n",
       "    }\n",
       "\n",
       "    .dataframe tbody tr th {\n",
       "        vertical-align: top;\n",
       "    }\n",
       "\n",
       "    .dataframe thead th {\n",
       "        text-align: right;\n",
       "    }\n",
       "</style>\n",
       "<table border=\"1\" class=\"dataframe\">\n",
       "  <thead>\n",
       "    <tr style=\"text-align: right;\">\n",
       "      <th></th>\n",
       "      <th>Contenido</th>\n",
       "      <th>Words</th>\n",
       "    </tr>\n",
       "  </thead>\n",
       "  <tbody>\n",
       "    <tr>\n",
       "      <th>1690</th>\n",
       "      <td>@tommcfly hey saw u guys play @ pushover..didn...</td>\n",
       "      <td>[tommcfly, hey, saw, u, guys, play, pushover, ...</td>\n",
       "    </tr>\n",
       "    <tr>\n",
       "      <th>1789</th>\n",
       "      <td>@tommcfly Good morning Tom! Why can't I send y...</td>\n",
       "      <td>[tommcfly, good, morning, tom, send, message, ...</td>\n",
       "    </tr>\n",
       "    <tr>\n",
       "      <th>2514</th>\n",
       "      <td>@tommcfly did you know that johnsons baby use ...</td>\n",
       "      <td>[tommcfly, know, johnsons, baby, use, animals,...</td>\n",
       "    </tr>\n",
       "    <tr>\n",
       "      <th>3524</th>\n",
       "      <td>@tommcfly hey, no chance of adding brighton or...</td>\n",
       "      <td>[tommcfly, hey, chance, adding, brighton, east...</td>\n",
       "    </tr>\n",
       "    <tr>\n",
       "      <th>3783</th>\n",
       "      <td>@tommcfly have fun tom, i need to buy eclipse ...</td>\n",
       "      <td>[tommcfly, fun, tom, need, buy, eclipse, money...</td>\n",
       "    </tr>\n",
       "  </tbody>\n",
       "</table>\n",
       "</div>"
      ],
      "text/plain": [
       "                                              Contenido  \\\n",
       "1690  @tommcfly hey saw u guys play @ pushover..didn...   \n",
       "1789  @tommcfly Good morning Tom! Why can't I send y...   \n",
       "2514  @tommcfly did you know that johnsons baby use ...   \n",
       "3524  @tommcfly hey, no chance of adding brighton or...   \n",
       "3783  @tommcfly have fun tom, i need to buy eclipse ...   \n",
       "\n",
       "                                                  Words  \n",
       "1690  [tommcfly, hey, saw, u, guys, play, pushover, ...  \n",
       "1789  [tommcfly, good, morning, tom, send, message, ...  \n",
       "2514  [tommcfly, know, johnsons, baby, use, animals,...  \n",
       "3524  [tommcfly, hey, chance, adding, brighton, east...  \n",
       "3783  [tommcfly, fun, tom, need, buy, eclipse, money...  "
      ]
     },
     "execution_count": 19,
     "metadata": {},
     "output_type": "execute_result"
    }
   ],
   "source": [
    "# tommcfly\n",
    "corpus_tommcfly = corpus_users['@tommcfly']\n",
    "corpus_tommcfly['Words'] = corpus_tommcfly['Contenido'].apply(remover_stopwords)\n",
    "print(f\"\\nCorpus del usuario: @tommcfly\")\n",
    "corpus_tommcfly[['Contenido', 'Words']].head()\n"
   ]
  },
  {
   "cell_type": "code",
   "execution_count": 20,
   "metadata": {},
   "outputs": [
    {
     "name": "stdout",
     "output_type": "stream",
     "text": [
      "\n",
      "Corpus del usuario: @ddlovato\n"
     ]
    },
    {
     "data": {
      "text/html": [
       "<div>\n",
       "<style scoped>\n",
       "    .dataframe tbody tr th:only-of-type {\n",
       "        vertical-align: middle;\n",
       "    }\n",
       "\n",
       "    .dataframe tbody tr th {\n",
       "        vertical-align: top;\n",
       "    }\n",
       "\n",
       "    .dataframe thead th {\n",
       "        text-align: right;\n",
       "    }\n",
       "</style>\n",
       "<table border=\"1\" class=\"dataframe\">\n",
       "  <thead>\n",
       "    <tr style=\"text-align: right;\">\n",
       "      <th></th>\n",
       "      <th>Contenido</th>\n",
       "      <th>Words</th>\n",
       "    </tr>\n",
       "  </thead>\n",
       "  <tbody>\n",
       "    <tr>\n",
       "      <th>460</th>\n",
       "      <td>@ddlovato @David_Henrie ummmmm i cant find it.</td>\n",
       "      <td>[ddlovato, david_henrie, ummmmm, cant, find]</td>\n",
       "    </tr>\n",
       "    <tr>\n",
       "      <th>573</th>\n",
       "      <td>@ddlovato Do you hate us?? Please don't</td>\n",
       "      <td>[ddlovato, hate, us, please]</td>\n",
       "    </tr>\n",
       "    <tr>\n",
       "      <th>7032</th>\n",
       "      <td>@ddlovato Wish that i could see it..  Thats th...</td>\n",
       "      <td>[ddlovato, wish, could, see, thats, downside, ...</td>\n",
       "    </tr>\n",
       "    <tr>\n",
       "      <th>7089</th>\n",
       "      <td>@ddlovato hey demi, wen are you and selena gon...</td>\n",
       "      <td>[ddlovato, hey, demi, wen, selena, gonna, anot...</td>\n",
       "    </tr>\n",
       "    <tr>\n",
       "      <th>8611</th>\n",
       "      <td>@ddlovato ahhhh i wish i could go to the dalla...</td>\n",
       "      <td>[ddlovato, ahhhh, wish, could, go, dallas, sho...</td>\n",
       "    </tr>\n",
       "  </tbody>\n",
       "</table>\n",
       "</div>"
      ],
      "text/plain": [
       "                                              Contenido  \\\n",
       "460     @ddlovato @David_Henrie ummmmm i cant find it.    \n",
       "573            @ddlovato Do you hate us?? Please don't    \n",
       "7032  @ddlovato Wish that i could see it..  Thats th...   \n",
       "7089  @ddlovato hey demi, wen are you and selena gon...   \n",
       "8611  @ddlovato ahhhh i wish i could go to the dalla...   \n",
       "\n",
       "                                                  Words  \n",
       "460        [ddlovato, david_henrie, ummmmm, cant, find]  \n",
       "573                        [ddlovato, hate, us, please]  \n",
       "7032  [ddlovato, wish, could, see, thats, downside, ...  \n",
       "7089  [ddlovato, hey, demi, wen, selena, gonna, anot...  \n",
       "8611  [ddlovato, ahhhh, wish, could, go, dallas, sho...  "
      ]
     },
     "execution_count": 20,
     "metadata": {},
     "output_type": "execute_result"
    }
   ],
   "source": [
    "# ddlovato\n",
    "corpus_ddlovato = corpus_users['@ddlovato']\n",
    "corpus_ddlovato['Words'] = corpus_ddlovato['Contenido'].apply(remover_stopwords)\n",
    "print(f\"\\nCorpus del usuario: @ddlovato\")\n",
    "corpus_ddlovato[['Contenido', 'Words']].head()"
   ]
  },
  {
   "cell_type": "markdown",
   "metadata": {},
   "source": [
    "# <span style=\"color: orange\"> Stemming </span>"
   ]
  },
  {
   "cell_type": "code",
   "execution_count": 21,
   "metadata": {},
   "outputs": [],
   "source": [
    "stemmer = PorterStemmer()\n",
    "\n",
    "def stem(palabras):\n",
    "    palabras_stem = [stemmer.stem(palabra) for palabra in palabras]  \n",
    "    return ' '.join(palabras_stem)"
   ]
  },
  {
   "cell_type": "code",
   "execution_count": 22,
   "metadata": {},
   "outputs": [
    {
     "name": "stdout",
     "output_type": "stream",
     "text": [
      "Corpus del usuario: @mileycyrus con Stemming\n"
     ]
    },
    {
     "data": {
      "text/html": [
       "<div>\n",
       "<style scoped>\n",
       "    .dataframe tbody tr th:only-of-type {\n",
       "        vertical-align: middle;\n",
       "    }\n",
       "\n",
       "    .dataframe tbody tr th {\n",
       "        vertical-align: top;\n",
       "    }\n",
       "\n",
       "    .dataframe thead th {\n",
       "        text-align: right;\n",
       "    }\n",
       "</style>\n",
       "<table border=\"1\" class=\"dataframe\">\n",
       "  <thead>\n",
       "    <tr style=\"text-align: right;\">\n",
       "      <th></th>\n",
       "      <th>Contenido</th>\n",
       "      <th>Words</th>\n",
       "      <th>Stemmed</th>\n",
       "    </tr>\n",
       "  </thead>\n",
       "  <tbody>\n",
       "    <tr>\n",
       "      <th>1021</th>\n",
       "      <td>@mileycyrus hahaha dont be like that one time ...</td>\n",
       "      <td>[mileycyrus, hahaha, dont, like, one, time, ny...</td>\n",
       "      <td>mileycyru hahaha dont like one time ny got 30 ...</td>\n",
       "    </tr>\n",
       "    <tr>\n",
       "      <th>2014</th>\n",
       "      <td>@mileycyrus i have the same problem, but it's ...</td>\n",
       "      <td>[mileycyrus, problem, 4, 43, let, see, countin...</td>\n",
       "      <td>mileycyru problem 4 43 let see count work 1234...</td>\n",
       "    </tr>\n",
       "    <tr>\n",
       "      <th>2073</th>\n",
       "      <td>@mileycyrus I guess counting sheep didn't work...</td>\n",
       "      <td>[mileycyrus, guess, counting, sheep, work, hop...</td>\n",
       "      <td>mileycyru guess count sheep work hope get sleep</td>\n",
       "    </tr>\n",
       "    <tr>\n",
       "      <th>2080</th>\n",
       "      <td>@mileycyrus I would too if it meant spending a...</td>\n",
       "      <td>[mileycyrus, would, meant, spending, day, heav...</td>\n",
       "      <td>mileycyru would meant spend day heaven w mom g...</td>\n",
       "    </tr>\n",
       "    <tr>\n",
       "      <th>2156</th>\n",
       "      <td>@mileycyrus AWWW u seriously have the cutest d...</td>\n",
       "      <td>[mileycyrus, awww, u, seriously, cutest, dog, ...</td>\n",
       "      <td>mileycyru awww u serious cutest dog miley sorr...</td>\n",
       "    </tr>\n",
       "  </tbody>\n",
       "</table>\n",
       "</div>"
      ],
      "text/plain": [
       "                                              Contenido  \\\n",
       "1021  @mileycyrus hahaha dont be like that one time ...   \n",
       "2014  @mileycyrus i have the same problem, but it's ...   \n",
       "2073  @mileycyrus I guess counting sheep didn't work...   \n",
       "2080  @mileycyrus I would too if it meant spending a...   \n",
       "2156  @mileycyrus AWWW u seriously have the cutest d...   \n",
       "\n",
       "                                                  Words  \\\n",
       "1021  [mileycyrus, hahaha, dont, like, one, time, ny...   \n",
       "2014  [mileycyrus, problem, 4, 43, let, see, countin...   \n",
       "2073  [mileycyrus, guess, counting, sheep, work, hop...   \n",
       "2080  [mileycyrus, would, meant, spending, day, heav...   \n",
       "2156  [mileycyrus, awww, u, seriously, cutest, dog, ...   \n",
       "\n",
       "                                                Stemmed  \n",
       "1021  mileycyru hahaha dont like one time ny got 30 ...  \n",
       "2014  mileycyru problem 4 43 let see count work 1234...  \n",
       "2073    mileycyru guess count sheep work hope get sleep  \n",
       "2080  mileycyru would meant spend day heaven w mom g...  \n",
       "2156  mileycyru awww u serious cutest dog miley sorr...  "
      ]
     },
     "execution_count": 22,
     "metadata": {},
     "output_type": "execute_result"
    }
   ],
   "source": [
    "# mileycyrus\n",
    "corpus_mileycyrus['Stemmed'] = corpus_mileycyrus['Words'].apply(stem)\n",
    "print(f\"Corpus del usuario: @mileycyrus con Stemming\")\n",
    "corpus_mileycyrus[['Contenido', 'Words', 'Stemmed']].head()"
   ]
  },
  {
   "cell_type": "code",
   "execution_count": 23,
   "metadata": {},
   "outputs": [
    {
     "name": "stdout",
     "output_type": "stream",
     "text": [
      "\n",
      "Corpus del usuario: @tommcfly con Stemming\n"
     ]
    },
    {
     "data": {
      "text/html": [
       "<div>\n",
       "<style scoped>\n",
       "    .dataframe tbody tr th:only-of-type {\n",
       "        vertical-align: middle;\n",
       "    }\n",
       "\n",
       "    .dataframe tbody tr th {\n",
       "        vertical-align: top;\n",
       "    }\n",
       "\n",
       "    .dataframe thead th {\n",
       "        text-align: right;\n",
       "    }\n",
       "</style>\n",
       "<table border=\"1\" class=\"dataframe\">\n",
       "  <thead>\n",
       "    <tr style=\"text-align: right;\">\n",
       "      <th></th>\n",
       "      <th>Contenido</th>\n",
       "      <th>Words</th>\n",
       "      <th>Stemmed</th>\n",
       "    </tr>\n",
       "  </thead>\n",
       "  <tbody>\n",
       "    <tr>\n",
       "      <th>1690</th>\n",
       "      <td>@tommcfly hey saw u guys play @ pushover..didn...</td>\n",
       "      <td>[tommcfly, hey, saw, u, guys, play, pushover, ...</td>\n",
       "      <td>tommcfli hey saw u guy play pushov get 2 meet ...</td>\n",
       "    </tr>\n",
       "    <tr>\n",
       "      <th>1789</th>\n",
       "      <td>@tommcfly Good morning Tom! Why can't I send y...</td>\n",
       "      <td>[tommcfly, good, morning, tom, send, message, ...</td>\n",
       "      <td>tommcfli good morn tom send messag short quest...</td>\n",
       "    </tr>\n",
       "    <tr>\n",
       "      <th>2514</th>\n",
       "      <td>@tommcfly did you know that johnsons baby use ...</td>\n",
       "      <td>[tommcfly, know, johnsons, baby, use, animals,...</td>\n",
       "      <td>tommcfli know johnson babi use anim like cute ...</td>\n",
       "    </tr>\n",
       "    <tr>\n",
       "      <th>3524</th>\n",
       "      <td>@tommcfly hey, no chance of adding brighton or...</td>\n",
       "      <td>[tommcfly, hey, chance, adding, brighton, east...</td>\n",
       "      <td>tommcfli hey chanc ad brighton eastbourn ucap ...</td>\n",
       "    </tr>\n",
       "    <tr>\n",
       "      <th>3783</th>\n",
       "      <td>@tommcfly have fun tom, i need to buy eclipse ...</td>\n",
       "      <td>[tommcfly, fun, tom, need, buy, eclipse, money...</td>\n",
       "      <td>tommcfli fun tom need buy eclips money sad timess</td>\n",
       "    </tr>\n",
       "  </tbody>\n",
       "</table>\n",
       "</div>"
      ],
      "text/plain": [
       "                                              Contenido  \\\n",
       "1690  @tommcfly hey saw u guys play @ pushover..didn...   \n",
       "1789  @tommcfly Good morning Tom! Why can't I send y...   \n",
       "2514  @tommcfly did you know that johnsons baby use ...   \n",
       "3524  @tommcfly hey, no chance of adding brighton or...   \n",
       "3783  @tommcfly have fun tom, i need to buy eclipse ...   \n",
       "\n",
       "                                                  Words  \\\n",
       "1690  [tommcfly, hey, saw, u, guys, play, pushover, ...   \n",
       "1789  [tommcfly, good, morning, tom, send, message, ...   \n",
       "2514  [tommcfly, know, johnsons, baby, use, animals,...   \n",
       "3524  [tommcfly, hey, chance, adding, brighton, east...   \n",
       "3783  [tommcfly, fun, tom, need, buy, eclipse, money...   \n",
       "\n",
       "                                                Stemmed  \n",
       "1690  tommcfli hey saw u guy play pushov get 2 meet ...  \n",
       "1789  tommcfli good morn tom send messag short quest...  \n",
       "2514  tommcfli know johnson babi use anim like cute ...  \n",
       "3524  tommcfli hey chanc ad brighton eastbourn ucap ...  \n",
       "3783  tommcfli fun tom need buy eclips money sad timess  "
      ]
     },
     "execution_count": 23,
     "metadata": {},
     "output_type": "execute_result"
    }
   ],
   "source": [
    "# tommcfly\n",
    "corpus_tommcfly['Stemmed'] = corpus_tommcfly['Words'].apply(stem)\n",
    "print(f\"\\nCorpus del usuario: @tommcfly con Stemming\")\n",
    "corpus_tommcfly[['Contenido', 'Words', 'Stemmed']].head()"
   ]
  },
  {
   "cell_type": "code",
   "execution_count": 24,
   "metadata": {},
   "outputs": [
    {
     "name": "stdout",
     "output_type": "stream",
     "text": [
      "\n",
      "Corpus del usuario: @ddlovato con Stemming\n"
     ]
    },
    {
     "data": {
      "text/html": [
       "<div>\n",
       "<style scoped>\n",
       "    .dataframe tbody tr th:only-of-type {\n",
       "        vertical-align: middle;\n",
       "    }\n",
       "\n",
       "    .dataframe tbody tr th {\n",
       "        vertical-align: top;\n",
       "    }\n",
       "\n",
       "    .dataframe thead th {\n",
       "        text-align: right;\n",
       "    }\n",
       "</style>\n",
       "<table border=\"1\" class=\"dataframe\">\n",
       "  <thead>\n",
       "    <tr style=\"text-align: right;\">\n",
       "      <th></th>\n",
       "      <th>Contenido</th>\n",
       "      <th>Words</th>\n",
       "      <th>Stemmed</th>\n",
       "    </tr>\n",
       "  </thead>\n",
       "  <tbody>\n",
       "    <tr>\n",
       "      <th>460</th>\n",
       "      <td>@ddlovato @David_Henrie ummmmm i cant find it.</td>\n",
       "      <td>[ddlovato, david_henrie, ummmmm, cant, find]</td>\n",
       "      <td>ddlovato david_henri ummmmm cant find</td>\n",
       "    </tr>\n",
       "    <tr>\n",
       "      <th>573</th>\n",
       "      <td>@ddlovato Do you hate us?? Please don't</td>\n",
       "      <td>[ddlovato, hate, us, please]</td>\n",
       "      <td>ddlovato hate us pleas</td>\n",
       "    </tr>\n",
       "    <tr>\n",
       "      <th>7032</th>\n",
       "      <td>@ddlovato Wish that i could see it..  Thats th...</td>\n",
       "      <td>[ddlovato, wish, could, see, thats, downside, ...</td>\n",
       "      <td>ddlovato wish could see that downsid live swed...</td>\n",
       "    </tr>\n",
       "    <tr>\n",
       "      <th>7089</th>\n",
       "      <td>@ddlovato hey demi, wen are you and selena gon...</td>\n",
       "      <td>[ddlovato, hey, demi, wen, selena, gonna, anot...</td>\n",
       "      <td>ddlovato hey demi wen selena gonna anoth video...</td>\n",
       "    </tr>\n",
       "    <tr>\n",
       "      <th>8611</th>\n",
       "      <td>@ddlovato ahhhh i wish i could go to the dalla...</td>\n",
       "      <td>[ddlovato, ahhhh, wish, could, go, dallas, sho...</td>\n",
       "      <td>ddlovato ahhhh wish could go dalla show wont near</td>\n",
       "    </tr>\n",
       "  </tbody>\n",
       "</table>\n",
       "</div>"
      ],
      "text/plain": [
       "                                              Contenido  \\\n",
       "460     @ddlovato @David_Henrie ummmmm i cant find it.    \n",
       "573            @ddlovato Do you hate us?? Please don't    \n",
       "7032  @ddlovato Wish that i could see it..  Thats th...   \n",
       "7089  @ddlovato hey demi, wen are you and selena gon...   \n",
       "8611  @ddlovato ahhhh i wish i could go to the dalla...   \n",
       "\n",
       "                                                  Words  \\\n",
       "460        [ddlovato, david_henrie, ummmmm, cant, find]   \n",
       "573                        [ddlovato, hate, us, please]   \n",
       "7032  [ddlovato, wish, could, see, thats, downside, ...   \n",
       "7089  [ddlovato, hey, demi, wen, selena, gonna, anot...   \n",
       "8611  [ddlovato, ahhhh, wish, could, go, dallas, sho...   \n",
       "\n",
       "                                                Stemmed  \n",
       "460               ddlovato david_henri ummmmm cant find  \n",
       "573                              ddlovato hate us pleas  \n",
       "7032  ddlovato wish could see that downsid live swed...  \n",
       "7089  ddlovato hey demi wen selena gonna anoth video...  \n",
       "8611  ddlovato ahhhh wish could go dalla show wont near  "
      ]
     },
     "execution_count": 24,
     "metadata": {},
     "output_type": "execute_result"
    }
   ],
   "source": [
    "# ddlovato\n",
    "corpus_ddlovato['Stemmed'] = corpus_ddlovato['Words'].apply(stem)\n",
    "print(f\"\\nCorpus del usuario: @ddlovato con Stemming\")\n",
    "corpus_ddlovato[['Contenido', 'Words', 'Stemmed']].head()"
   ]
  },
  {
   "cell_type": "markdown",
   "metadata": {},
   "source": [
    "# <span style=\"color: orange\"> Lemmatization </span>"
   ]
  },
  {
   "cell_type": "code",
   "execution_count": 25,
   "metadata": {},
   "outputs": [],
   "source": [
    "lemmatizer = WordNetLemmatizer()\n",
    "\n",
    "def lemmatize_word(word):\n",
    "    pos = wordnet.VERB if word.endswith('ing') else wordnet.NOUN\n",
    "    return lemmatizer.lemmatize(word, pos)\n"
   ]
  },
  {
   "cell_type": "code",
   "execution_count": 26,
   "metadata": {},
   "outputs": [],
   "source": [
    "def lemmatize_words(palabras):\n",
    "    return [lemmatize_word(word) for word in palabras]"
   ]
  },
  {
   "cell_type": "code",
   "execution_count": 27,
   "metadata": {},
   "outputs": [
    {
     "data": {
      "text/html": [
       "<div>\n",
       "<style scoped>\n",
       "    .dataframe tbody tr th:only-of-type {\n",
       "        vertical-align: middle;\n",
       "    }\n",
       "\n",
       "    .dataframe tbody tr th {\n",
       "        vertical-align: top;\n",
       "    }\n",
       "\n",
       "    .dataframe thead th {\n",
       "        text-align: right;\n",
       "    }\n",
       "</style>\n",
       "<table border=\"1\" class=\"dataframe\">\n",
       "  <thead>\n",
       "    <tr style=\"text-align: right;\">\n",
       "      <th></th>\n",
       "      <th>Contenido</th>\n",
       "      <th>Words</th>\n",
       "      <th>Lemmatized</th>\n",
       "    </tr>\n",
       "  </thead>\n",
       "  <tbody>\n",
       "    <tr>\n",
       "      <th>1021</th>\n",
       "      <td>@mileycyrus hahaha dont be like that one time ...</td>\n",
       "      <td>[mileycyrus, hahaha, dont, like, one, time, ny...</td>\n",
       "      <td>[mileycyrus, hahaha, dont, like, one, time, ny...</td>\n",
       "    </tr>\n",
       "    <tr>\n",
       "      <th>2014</th>\n",
       "      <td>@mileycyrus i have the same problem, but it's ...</td>\n",
       "      <td>[mileycyrus, problem, 4, 43, let, see, countin...</td>\n",
       "      <td>[mileycyrus, problem, 4, 43, let, see, count, ...</td>\n",
       "    </tr>\n",
       "    <tr>\n",
       "      <th>2073</th>\n",
       "      <td>@mileycyrus I guess counting sheep didn't work...</td>\n",
       "      <td>[mileycyrus, guess, counting, sheep, work, hop...</td>\n",
       "      <td>[mileycyrus, guess, count, sheep, work, hope, ...</td>\n",
       "    </tr>\n",
       "    <tr>\n",
       "      <th>2080</th>\n",
       "      <td>@mileycyrus I would too if it meant spending a...</td>\n",
       "      <td>[mileycyrus, would, meant, spending, day, heav...</td>\n",
       "      <td>[mileycyrus, would, meant, spend, day, heaven,...</td>\n",
       "    </tr>\n",
       "    <tr>\n",
       "      <th>2156</th>\n",
       "      <td>@mileycyrus AWWW u seriously have the cutest d...</td>\n",
       "      <td>[mileycyrus, awww, u, seriously, cutest, dog, ...</td>\n",
       "      <td>[mileycyrus, awww, u, seriously, cutest, dog, ...</td>\n",
       "    </tr>\n",
       "  </tbody>\n",
       "</table>\n",
       "</div>"
      ],
      "text/plain": [
       "                                              Contenido  \\\n",
       "1021  @mileycyrus hahaha dont be like that one time ...   \n",
       "2014  @mileycyrus i have the same problem, but it's ...   \n",
       "2073  @mileycyrus I guess counting sheep didn't work...   \n",
       "2080  @mileycyrus I would too if it meant spending a...   \n",
       "2156  @mileycyrus AWWW u seriously have the cutest d...   \n",
       "\n",
       "                                                  Words  \\\n",
       "1021  [mileycyrus, hahaha, dont, like, one, time, ny...   \n",
       "2014  [mileycyrus, problem, 4, 43, let, see, countin...   \n",
       "2073  [mileycyrus, guess, counting, sheep, work, hop...   \n",
       "2080  [mileycyrus, would, meant, spending, day, heav...   \n",
       "2156  [mileycyrus, awww, u, seriously, cutest, dog, ...   \n",
       "\n",
       "                                             Lemmatized  \n",
       "1021  [mileycyrus, hahaha, dont, like, one, time, ny...  \n",
       "2014  [mileycyrus, problem, 4, 43, let, see, count, ...  \n",
       "2073  [mileycyrus, guess, count, sheep, work, hope, ...  \n",
       "2080  [mileycyrus, would, meant, spend, day, heaven,...  \n",
       "2156  [mileycyrus, awww, u, seriously, cutest, dog, ...  "
      ]
     },
     "execution_count": 27,
     "metadata": {},
     "output_type": "execute_result"
    }
   ],
   "source": [
    "# Lemmatization mileycyrus\n",
    "corpus_mileycyrus['Lemmatized'] = corpus_mileycyrus['Words'].apply(lemmatize_words)\n",
    "corpus_mileycyrus[['Contenido', 'Words', 'Lemmatized']].head()"
   ]
  },
  {
   "cell_type": "code",
   "execution_count": 28,
   "metadata": {},
   "outputs": [
    {
     "data": {
      "text/html": [
       "<div>\n",
       "<style scoped>\n",
       "    .dataframe tbody tr th:only-of-type {\n",
       "        vertical-align: middle;\n",
       "    }\n",
       "\n",
       "    .dataframe tbody tr th {\n",
       "        vertical-align: top;\n",
       "    }\n",
       "\n",
       "    .dataframe thead th {\n",
       "        text-align: right;\n",
       "    }\n",
       "</style>\n",
       "<table border=\"1\" class=\"dataframe\">\n",
       "  <thead>\n",
       "    <tr style=\"text-align: right;\">\n",
       "      <th></th>\n",
       "      <th>Contenido</th>\n",
       "      <th>Words</th>\n",
       "      <th>Lemmatized</th>\n",
       "    </tr>\n",
       "  </thead>\n",
       "  <tbody>\n",
       "    <tr>\n",
       "      <th>1690</th>\n",
       "      <td>@tommcfly hey saw u guys play @ pushover..didn...</td>\n",
       "      <td>[tommcfly, hey, saw, u, guys, play, pushover, ...</td>\n",
       "      <td>[tommcfly, hey, saw, u, guy, play, pushover, g...</td>\n",
       "    </tr>\n",
       "    <tr>\n",
       "      <th>1789</th>\n",
       "      <td>@tommcfly Good morning Tom! Why can't I send y...</td>\n",
       "      <td>[tommcfly, good, morning, tom, send, message, ...</td>\n",
       "      <td>[tommcfly, good, morning, tom, send, message, ...</td>\n",
       "    </tr>\n",
       "    <tr>\n",
       "      <th>2514</th>\n",
       "      <td>@tommcfly did you know that johnsons baby use ...</td>\n",
       "      <td>[tommcfly, know, johnsons, baby, use, animals,...</td>\n",
       "      <td>[tommcfly, know, johnson, baby, use, animal, l...</td>\n",
       "    </tr>\n",
       "    <tr>\n",
       "      <th>3524</th>\n",
       "      <td>@tommcfly hey, no chance of adding brighton or...</td>\n",
       "      <td>[tommcfly, hey, chance, adding, brighton, east...</td>\n",
       "      <td>[tommcfly, hey, chance, add, brighton, eastbou...</td>\n",
       "    </tr>\n",
       "    <tr>\n",
       "      <th>3783</th>\n",
       "      <td>@tommcfly have fun tom, i need to buy eclipse ...</td>\n",
       "      <td>[tommcfly, fun, tom, need, buy, eclipse, money...</td>\n",
       "      <td>[tommcfly, fun, tom, need, buy, eclipse, money...</td>\n",
       "    </tr>\n",
       "  </tbody>\n",
       "</table>\n",
       "</div>"
      ],
      "text/plain": [
       "                                              Contenido  \\\n",
       "1690  @tommcfly hey saw u guys play @ pushover..didn...   \n",
       "1789  @tommcfly Good morning Tom! Why can't I send y...   \n",
       "2514  @tommcfly did you know that johnsons baby use ...   \n",
       "3524  @tommcfly hey, no chance of adding brighton or...   \n",
       "3783  @tommcfly have fun tom, i need to buy eclipse ...   \n",
       "\n",
       "                                                  Words  \\\n",
       "1690  [tommcfly, hey, saw, u, guys, play, pushover, ...   \n",
       "1789  [tommcfly, good, morning, tom, send, message, ...   \n",
       "2514  [tommcfly, know, johnsons, baby, use, animals,...   \n",
       "3524  [tommcfly, hey, chance, adding, brighton, east...   \n",
       "3783  [tommcfly, fun, tom, need, buy, eclipse, money...   \n",
       "\n",
       "                                             Lemmatized  \n",
       "1690  [tommcfly, hey, saw, u, guy, play, pushover, g...  \n",
       "1789  [tommcfly, good, morning, tom, send, message, ...  \n",
       "2514  [tommcfly, know, johnson, baby, use, animal, l...  \n",
       "3524  [tommcfly, hey, chance, add, brighton, eastbou...  \n",
       "3783  [tommcfly, fun, tom, need, buy, eclipse, money...  "
      ]
     },
     "execution_count": 28,
     "metadata": {},
     "output_type": "execute_result"
    }
   ],
   "source": [
    "# Lemmatization tommcfly\n",
    "corpus_tommcfly['Lemmatized'] = corpus_tommcfly['Words'].apply(lemmatize_words)\n",
    "corpus_tommcfly[['Contenido', 'Words', 'Lemmatized']].head()"
   ]
  },
  {
   "cell_type": "code",
   "execution_count": 29,
   "metadata": {},
   "outputs": [
    {
     "data": {
      "text/html": [
       "<div>\n",
       "<style scoped>\n",
       "    .dataframe tbody tr th:only-of-type {\n",
       "        vertical-align: middle;\n",
       "    }\n",
       "\n",
       "    .dataframe tbody tr th {\n",
       "        vertical-align: top;\n",
       "    }\n",
       "\n",
       "    .dataframe thead th {\n",
       "        text-align: right;\n",
       "    }\n",
       "</style>\n",
       "<table border=\"1\" class=\"dataframe\">\n",
       "  <thead>\n",
       "    <tr style=\"text-align: right;\">\n",
       "      <th></th>\n",
       "      <th>Contenido</th>\n",
       "      <th>Words</th>\n",
       "      <th>Lemmatized</th>\n",
       "    </tr>\n",
       "  </thead>\n",
       "  <tbody>\n",
       "    <tr>\n",
       "      <th>460</th>\n",
       "      <td>@ddlovato @David_Henrie ummmmm i cant find it.</td>\n",
       "      <td>[ddlovato, david_henrie, ummmmm, cant, find]</td>\n",
       "      <td>[ddlovato, david_henrie, ummmmm, cant, find]</td>\n",
       "    </tr>\n",
       "    <tr>\n",
       "      <th>573</th>\n",
       "      <td>@ddlovato Do you hate us?? Please don't</td>\n",
       "      <td>[ddlovato, hate, us, please]</td>\n",
       "      <td>[ddlovato, hate, u, please]</td>\n",
       "    </tr>\n",
       "    <tr>\n",
       "      <th>7032</th>\n",
       "      <td>@ddlovato Wish that i could see it..  Thats th...</td>\n",
       "      <td>[ddlovato, wish, could, see, thats, downside, ...</td>\n",
       "      <td>[ddlovato, wish, could, see, thats, downside, ...</td>\n",
       "    </tr>\n",
       "    <tr>\n",
       "      <th>7089</th>\n",
       "      <td>@ddlovato hey demi, wen are you and selena gon...</td>\n",
       "      <td>[ddlovato, hey, demi, wen, selena, gonna, anot...</td>\n",
       "      <td>[ddlovato, hey, demi, wen, selena, gonna, anot...</td>\n",
       "    </tr>\n",
       "    <tr>\n",
       "      <th>8611</th>\n",
       "      <td>@ddlovato ahhhh i wish i could go to the dalla...</td>\n",
       "      <td>[ddlovato, ahhhh, wish, could, go, dallas, sho...</td>\n",
       "      <td>[ddlovato, ahhhh, wish, could, go, dallas, sho...</td>\n",
       "    </tr>\n",
       "  </tbody>\n",
       "</table>\n",
       "</div>"
      ],
      "text/plain": [
       "                                              Contenido  \\\n",
       "460     @ddlovato @David_Henrie ummmmm i cant find it.    \n",
       "573            @ddlovato Do you hate us?? Please don't    \n",
       "7032  @ddlovato Wish that i could see it..  Thats th...   \n",
       "7089  @ddlovato hey demi, wen are you and selena gon...   \n",
       "8611  @ddlovato ahhhh i wish i could go to the dalla...   \n",
       "\n",
       "                                                  Words  \\\n",
       "460        [ddlovato, david_henrie, ummmmm, cant, find]   \n",
       "573                        [ddlovato, hate, us, please]   \n",
       "7032  [ddlovato, wish, could, see, thats, downside, ...   \n",
       "7089  [ddlovato, hey, demi, wen, selena, gonna, anot...   \n",
       "8611  [ddlovato, ahhhh, wish, could, go, dallas, sho...   \n",
       "\n",
       "                                             Lemmatized  \n",
       "460        [ddlovato, david_henrie, ummmmm, cant, find]  \n",
       "573                         [ddlovato, hate, u, please]  \n",
       "7032  [ddlovato, wish, could, see, thats, downside, ...  \n",
       "7089  [ddlovato, hey, demi, wen, selena, gonna, anot...  \n",
       "8611  [ddlovato, ahhhh, wish, could, go, dallas, sho...  "
      ]
     },
     "execution_count": 29,
     "metadata": {},
     "output_type": "execute_result"
    }
   ],
   "source": [
    "# Lemmatization ddlovato\n",
    "corpus_ddlovato['Lemmatized'] = corpus_ddlovato['Words'].apply(lemmatize_words)\n",
    "corpus_ddlovato[['Contenido', 'Words', 'Lemmatized']].head()"
   ]
  },
  {
   "cell_type": "markdown",
   "metadata": {},
   "source": [
    "# <span style=\"color: orange\"> WordCloud </span>"
   ]
  },
  {
   "cell_type": "code",
   "execution_count": 37,
   "metadata": {},
   "outputs": [],
   "source": [
    "# def plot_wordcloud(corpus, username):\n",
    "\n",
    "#     text = ' '.join(corpus['Words'].sum())\n",
    "\n",
    "#     wordcloud = WordCloud(width=800, height=400, background_color='white').generate(text)\n",
    "\n",
    "#     plt.figure(figsize=(10, 5))\n",
    "#     plt.imshow(wordcloud, interpolation='bilinear')\n",
    "#     plt.axis('off')\n",
    "#     plt.title(f'WordCloud {username}')\n",
    "#     plt.show()"
   ]
  },
  {
   "cell_type": "code",
   "execution_count": 38,
   "metadata": {},
   "outputs": [],
   "source": [
    "# for user, corpus in corpus_users.items():\n",
    "#     plot_wordcloud(corpus, user)"
   ]
  },
  {
   "cell_type": "code",
   "execution_count": 39,
   "metadata": {},
   "outputs": [],
   "source": [
    "def plot_wordcloud_top(corpus, user):\n",
    "    all_words = [word for sublist in corpus['Lemmatized'] for word in sublist]  \n",
    "    all_words_text = ' '.join(all_words)\n",
    "    \n",
    "    word_counts = Counter(all_words_text.split())\n",
    "    \n",
    "    most_common_words = dict(word_counts.most_common(10))\n",
    "    \n",
    "    wordcloud = WordCloud(width=800, height=400, background_color='white').generate_from_frequencies(most_common_words)\n",
    "\n",
    "    plt.figure(figsize=(10, 5))\n",
    "    plt.imshow(wordcloud, interpolation='bilinear')\n",
    "    plt.axis('off')  # No mostrar ejes\n",
    "    plt.title(f'WordCloud de {user}')\n",
    "    plt.show()"
   ]
  },
  {
   "cell_type": "code",
   "execution_count": 40,
   "metadata": {},
   "outputs": [
    {
     "data": {
      "image/png": "[encoded data removed]",
      "text/plain": [
       "<Figure size 1000x500 with 1 Axes>"
      ]
     },
     "metadata": {},
     "output_type": "display_data"
    },
    {
     "data": {
      "image/png": "[encoded data removed]",
      "text/plain": [
       "<Figure size 1000x500 with 1 Axes>"
      ]
     },
     "metadata": {},
     "output_type": "display_data"
    },
    {
     "data": {
      "image/png": "[encoded data removed]",
      "text/plain": [
       "<Figure size 1000x500 with 1 Axes>"
      ]
     },
     "metadata": {},
     "output_type": "display_data"
    }
   ],
   "source": [
    "for user, corpus in corpus_users.items():\n",
    "    plot_wordcloud_top(corpus, user)"
   ]
  },
  {
   "cell_type": "code",
   "execution_count": null,
   "metadata": {},
   "outputs": [],
   "source": []
  }
 ],
 "metadata": {
  "kernelspec": {
   "display_name": "venv",
   "language": "python",
   "name": "python3"
  },
  "language_info": {
   "codemirror_mode": {
    "name": "ipython",
    "version": 3
   },
   "file_extension": ".py",
   "mimetype": "text/x-python",
   "name": "python",
   "nbconvert_exporter": "python",
   "pygments_lexer": "ipython3",
   "version": "3.10.14"
  }
 },
 "nbformat": 4,
 "nbformat_minor": 2
}
